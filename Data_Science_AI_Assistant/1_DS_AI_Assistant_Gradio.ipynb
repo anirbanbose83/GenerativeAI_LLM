{
 "cells": [
  {
   "cell_type": "markdown",
   "id": "d006b2ea-9dfe-49c7-88a9-a5a0775185fd",
   "metadata": {},
   "source": [
    "### <span style=\"color:purple; font-weight:bold;\">Candidate Name: Anirban Bose</span>\n",
    "<h3><strong style=\"color:purple;\">Assignment: Data Science Multi Modal AI Assistant using Gradio</strong></h3>"
   ]
  },
  {
   "cell_type": "code",
   "execution_count": 1,
   "id": "a07e7793-b8f5-44f4-aded-5562f633271a",
   "metadata": {},
   "outputs": [],
   "source": [
    "import base64\n",
    "import json\n",
    "from io import BytesIO\n",
    "from PIL import Image\n",
    "from IPython.display import Audio, display, Markdown\n",
    "from scipy.io.wavfile import write as write_wav\n",
    "import numpy as np\n",
    "import os\n",
    "import json\n",
    "from dotenv import load_dotenv\n",
    "from openai import OpenAI\n",
    "import gradio as gr"
   ]
  },
  {
   "cell_type": "code",
   "execution_count": 2,
   "id": "27aa235f-3a40-4abf-88af-62c6549835d4",
   "metadata": {},
   "outputs": [
    {
     "name": "stdout",
     "output_type": "stream",
     "text": [
      "OpenAI API Key exists and begins sk-proj-\n"
     ]
    }
   ],
   "source": [
    "# Initialization\n",
    "\n",
    "load_dotenv(override=True)\n",
    "\n",
    "openai_api_key = os.getenv('OPENAI_API_KEY')\n",
    "if openai_api_key:\n",
    "    print(f\"OpenAI API Key exists and begins {openai_api_key[:8]}\")\n",
    "else:\n",
    "    print(\"OpenAI API Key not set\")\n",
    "    \n",
    "MODEL_OPENAI = \"gpt-4o-mini\"\n",
    "MAX_TOKENS = 200\n",
    "openai = OpenAI()"
   ]
  },
  {
   "cell_type": "code",
   "execution_count": 3,
   "id": "26a21bd0-8a64-4214-9aae-123ef85de76f",
   "metadata": {},
   "outputs": [],
   "source": [
    "system_prompt_basic = \"You are a Data Science Tutor who provides high quality responses to queries from students or educators.\"\n",
    "system_prompt_deterministic = \"You must first evaluate whether a question is related to Data Scice, Machine Learning, Deep Learning, Reinforcement Learning, LLMs, and other relater fields.\"\n",
    "system_prompt_additional = \"Your responses should be as technical as possible. Make sure to show your expertise in this area.\" \n",
    "system_prompt_exclusion = \"Do not hallucinate. If ypu do not know the answer, say so\" \n",
    "\n",
    "system_prompt = system_prompt_basic + system_prompt_deterministic + system_prompt_additional + system_prompt_exclusion"
   ]
  },
  {
   "cell_type": "code",
   "execution_count": 4,
   "id": "e80b4375-b8f2-441e-af12-343ca4c9976f",
   "metadata": {},
   "outputs": [],
   "source": [
    "def get_user_prompt(question):\n",
    "    return \"Please give a detailed explanation to the following question: \" + question"
   ]
  },
  {
   "cell_type": "code",
   "execution_count": 5,
   "id": "2231f19f-6be0-46ca-9607-58a8149030fa",
   "metadata": {},
   "outputs": [],
   "source": [
    "def call_openai(question):\n",
    "    response = openai.chat.completions.create(\n",
    "        model=MODEL_OPENAI,\n",
    "        messages=[\n",
    "            {\"role\": \"system\", \"content\": system_prompt},\n",
    "            {\"role\": \"user\", \"content\": get_user_prompt(question)}\n",
    "        ],\n",
    "        max_tokens=MAX_TOKENS,\n",
    "        temperature=1.0\n",
    "    )\n",
    "    return response.choices[0].message.content"
   ]
  },
  {
   "cell_type": "code",
   "execution_count": 6,
   "id": "ea6c1e9f-407e-498d-ba46-53cb2d036986",
   "metadata": {},
   "outputs": [
    {
     "data": {
      "text/markdown": [
       "> The phrase \"Make America Great Again\" (MAGA) is a political slogan associated predominantly with Donald Trump during his 2016 presidential campaign. While it may not directly relate to data science, machine learning, or any technical field, it has implications on political sentiment analysis, public opinion, and campaign strategy which can be analyzed using various data science techniques. \n",
       "> If you are interested in how data science could be applied to analyze such a slogan, here are a few points to consider:\n",
       "> 1. **Sentiment Analysis**: One could use natural language processing (NLP) techniques to analyze social media posts, news articles, or public speeches to gauge public sentiment towards the slogan. Techniques such as tokenization, sentiment scoring, and the use of pre-trained models (like BERT or other transformers) could be utilized.\n",
       "> 2. **Public Opinion Polling**: Using machine learning models to predict public opinion trends related to the slogan across different demographics could provide insights. Regression models, classification algorithms, or"
      ],
      "text/plain": [
       "<IPython.core.display.Markdown object>"
      ]
     },
     "metadata": {},
     "output_type": "display_data"
    }
   ],
   "source": [
    "output = call_openai(\"Make America Great Again\")\n",
    "# Preprocess the output to format it for Markdown blockquote\n",
    "formatted_output = \"> \" + output.replace(\"\\n\\n\", \"\\n> \")\n",
    "\n",
    "# Display using Markdown\n",
    "display(Markdown(formatted_output))"
   ]
  },
  {
   "cell_type": "code",
   "execution_count": 7,
   "id": "1bd50cf5-f10f-43b1-897d-429b97e34e2a",
   "metadata": {},
   "outputs": [],
   "source": [
    "# There's a particular dictionary structure that's required to describe our function:\n",
    "\n",
    "ask_chatgpt_ds_function = {\n",
    "    \"name\": \"call_openai\",\n",
    "    \"description\": \"Get the answer to a Data Science Questions. Call this whenever the question is related to data science, for example when a student/educator asks 'Types of regression algorithms'\",\n",
    "    \"parameters\": {\n",
    "        \"type\": \"object\",\n",
    "        \"properties\": {\n",
    "            \"question\": {\n",
    "                \"type\": \"string\",\n",
    "                \"description\": \"The question that users would ask\",\n",
    "            },\n",
    "        },\n",
    "        \"required\": [\"question\"],\n",
    "        \"additionalProperties\": False\n",
    "    }\n",
    "}"
   ]
  },
  {
   "cell_type": "code",
   "execution_count": 8,
   "id": "33133a4c-5f5b-4a0c-b0c7-94c28489ca29",
   "metadata": {},
   "outputs": [],
   "source": [
    "# And this is included in a list of tools:\n",
    "\n",
    "tools = [{\"type\": \"function\", \"function\": ask_chatgpt_ds_function}]"
   ]
  },
  {
   "cell_type": "code",
   "execution_count": 9,
   "id": "74aa10de-d6d7-45bd-878e-db51b9676f5a",
   "metadata": {},
   "outputs": [],
   "source": [
    "def handle_tool_call(tool_call):\n",
    "    name = tool_call.function.name\n",
    "    args = json.loads(tool_call.function.arguments)\n",
    "    tool_call_id = tool_call.id\n",
    "\n",
    "    if name == \"call_openai\":\n",
    "        result = call_openai(args[\"question\"])\n",
    "        tool_response_msg = {\n",
    "            \"role\": \"tool\",\n",
    "            \"tool_call_id\": tool_call_id,\n",
    "            \"content\": result\n",
    "        }\n",
    "        return tool_response_msg\n",
    "\n",
    "    else:\n",
    "        raise ValueError(f\"Unsupported tool: {name}\")\n"
   ]
  },
  {
   "cell_type": "code",
   "execution_count": 10,
   "id": "8713e851-3392-4386-8e29-105e79b9165c",
   "metadata": {},
   "outputs": [],
   "source": [
    "def chat(message, history):\n",
    "    # Construct the message list\n",
    "    messages = [{\"role\": \"system\", \"content\": system_prompt}] + history + [{\"role\": \"user\", \"content\": message}]\n",
    "\n",
    "    # First API call — OpenAI may trigger a tool call\n",
    "    response = openai.chat.completions.create(\n",
    "        model=MODEL_OPENAI,\n",
    "        messages=messages,\n",
    "        tools=tools\n",
    "    )\n",
    "\n",
    "    choice = response.choices[0]\n",
    "\n",
    "    if choice.finish_reason == \"tool_calls\":\n",
    "        # The assistant is requesting to use one or more tools\n",
    "        tool_calls = choice.message.tool_calls\n",
    "        messages.append(choice.message)  # Add assistant's tool call message\n",
    "\n",
    "        for tool_call in tool_calls:\n",
    "            tool_response_msg = handle_tool_call(tool_call)\n",
    "            messages.append(tool_response_msg)  # Append tool's response\n",
    "\n",
    "        # Second call — continue the conversation using the tool's output\n",
    "        followup_response = openai.chat.completions.create(\n",
    "            model=MODEL_OPENAI,\n",
    "            messages=messages\n",
    "        )\n",
    "\n",
    "        return followup_response.choices[0].message.content\n",
    "\n",
    "    # No tool call — normal assistant response\n",
    "    return choice.message.content\n"
   ]
  },
  {
   "cell_type": "code",
   "execution_count": 11,
   "id": "2c84d7ea-e271-47b4-87be-5802e0981716",
   "metadata": {
    "scrolled": true
   },
   "outputs": [
    {
     "name": "stdout",
     "output_type": "stream",
     "text": [
      "* Running on local URL:  http://127.0.0.1:7886\n",
      "\n",
      "To create a public link, set `share=True` in `launch()`.\n"
     ]
    },
    {
     "data": {
      "text/html": [
       "<div><iframe src=\"http://127.0.0.1:7886/\" width=\"100%\" height=\"500\" allow=\"autoplay; camera; microphone; clipboard-read; clipboard-write;\" frameborder=\"0\" allowfullscreen></iframe></div>"
      ],
      "text/plain": [
       "<IPython.core.display.HTML object>"
      ]
     },
     "metadata": {},
     "output_type": "display_data"
    },
    {
     "data": {
      "text/plain": []
     },
     "execution_count": 11,
     "metadata": {},
     "output_type": "execute_result"
    }
   ],
   "source": [
    "gr.ChatInterface(fn=chat, type=\"messages\").launch()"
   ]
  },
  {
   "cell_type": "code",
   "execution_count": null,
   "id": "1499d738-0e7b-4605-8acc-0d9908ae6ee3",
   "metadata": {},
   "outputs": [],
   "source": []
  }
 ],
 "metadata": {
  "kernelspec": {
   "display_name": "Python 3 (ipykernel)",
   "language": "python",
   "name": "python3"
  },
  "language_info": {
   "codemirror_mode": {
    "name": "ipython",
    "version": 3
   },
   "file_extension": ".py",
   "mimetype": "text/x-python",
   "name": "python",
   "nbconvert_exporter": "python",
   "pygments_lexer": "ipython3",
   "version": "3.11.5"
  }
 },
 "nbformat": 4,
 "nbformat_minor": 5
}
