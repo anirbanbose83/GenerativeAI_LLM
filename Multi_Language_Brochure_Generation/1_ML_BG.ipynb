{
  "nbformat": 4,
  "nbformat_minor": 0,
  "metadata": {
    "colab": {
      "provenance": [],
      "toc_visible": true,
      "gpuType": "T4"
    },
    "kernelspec": {
      "name": "python3",
      "display_name": "Python 3"
    },
    "language_info": {
      "name": "python"
    },
    "accelerator": "GPU"
  },
  "cells": [
    {
      "cell_type": "markdown",
      "source": [
        "## STEP 0: Install required libraries"
      ],
      "metadata": {
        "id": "d5R6qlqk6QR5"
      }
    },
    {
      "cell_type": "code",
      "execution_count": 48,
      "metadata": {
        "id": "WFPFHueh4uyj"
      },
      "outputs": [],
      "source": [
        "# --- Install dependencies ---\n",
        "!pip install -q openai python-dotenv beautifulsoup4 gradio"
      ]
    },
    {
      "cell_type": "markdown",
      "source": [
        "## STEP 1: Import packages and load OpenAI API key securely from Colab secrets"
      ],
      "metadata": {
        "id": "Japo1nSv6OuR"
      }
    },
    {
      "cell_type": "code",
      "source": [
        "# --- Imports ---\n",
        "import os\n",
        "import json\n",
        "import requests\n",
        "from bs4 import BeautifulSoup\n",
        "from dotenv import load_dotenv\n",
        "import openai\n",
        "from IPython.display import Markdown, display, update_display\n",
        "import gradio as gr"
      ],
      "metadata": {
        "id": "8Z9BRL0I5B5M"
      },
      "execution_count": 49,
      "outputs": []
    },
    {
      "cell_type": "code",
      "source": [
        "# --- Secure API Key via Colab Secrets ---\n",
        "from google.colab import userdata\n",
        "from openai import OpenAI\n",
        "\n",
        "client = OpenAI(api_key=userdata.get(\"OPENAI_API_KEY\"))"
      ],
      "metadata": {
        "id": "tOZSM77N5Pa_"
      },
      "execution_count": 50,
      "outputs": []
    },
    {
      "cell_type": "code",
      "source": [
        "# --- Fix the model ---\n",
        "MODEL = 'gpt-4o-mini'"
      ],
      "metadata": {
        "id": "q_CkvyiuFb5b"
      },
      "execution_count": 51,
      "outputs": []
    },
    {
      "cell_type": "markdown",
      "source": [
        "## STEP 2: Define website scraper to extract content and links"
      ],
      "metadata": {
        "id": "FClDslVp6HuZ"
      }
    },
    {
      "cell_type": "code",
      "source": [
        "# --- Web scraper class ---\n",
        "headers = {\"User-Agent\": \"Mozilla/5.0\"}\n",
        "\n",
        "class Website:\n",
        "    def __init__(self, url):\n",
        "        self.url = url\n",
        "        response = requests.get(url, headers=headers)\n",
        "        self.body = response.content\n",
        "        soup = BeautifulSoup(self.body, \"html.parser\")\n",
        "        self.title = soup.title.string.strip() if soup.title else \"No title found\"\n",
        "        if soup.body:\n",
        "            for tag in soup.body([\"script\", \"style\", \"img\", \"input\"]):\n",
        "                tag.decompose()\n",
        "            self.text = soup.body.get_text(separator=\"\\n\", strip=True)\n",
        "        else:\n",
        "            self.text = \"\"\n",
        "        links = [link.get(\"href\") for link in soup.find_all(\"a\")]\n",
        "        self.links = [link for link in links if link]\n",
        "\n",
        "    def get_contents(self):\n",
        "        return f\"Webpage Title:\\n{self.title}\\nWebpage Contents:\\n{self.text}\\n\\n\""
      ],
      "metadata": {
        "id": "Y6Mxsvu35mhc"
      },
      "execution_count": 52,
      "outputs": []
    },
    {
      "cell_type": "markdown",
      "source": [
        "## STEP 3: Use GPT-4o-mini to decide which links are relevant"
      ],
      "metadata": {
        "id": "1Fgp9wPB6b3B"
      }
    },
    {
      "cell_type": "code",
      "source": [
        "link_system_prompt = \"You are provided with a list of links found on a webpage. \\\n",
        "You are able to decide which of the links would be most relevant to include in a brochure about the company, \\\n",
        "such as links to an About page, or a Company page, or Careers/Jobs pages.\\n\"\n",
        "link_system_prompt += \"You should respond in JSON as in this example:\"\n",
        "link_system_prompt += \"\"\"\n",
        "{\n",
        "    \"links\": [\n",
        "        {\"type\": \"about page\", \"url\": \"https://full.url/goes/here/about\"},\n",
        "        {\"type\": \"careers page\": \"url\": \"https://another.full.url/careers\"}\n",
        "    ]\n",
        "}\n",
        "\"\"\""
      ],
      "metadata": {
        "id": "mLb2dBAh51kR"
      },
      "execution_count": 53,
      "outputs": []
    },
    {
      "cell_type": "code",
      "source": [
        "def get_links_user_prompt(website):\n",
        "    user_prompt = f\"Here is the list of links on the website of {website.url} - \"\n",
        "    user_prompt += \"please decide which of these are relevant web links for a brochure about the company, respond with the full https URL in JSON format. \\\n",
        "Do not include Terms of Service, Privacy, email links.\\n\"\n",
        "    user_prompt += \"Links (some might be relative links):\\n\"\n",
        "    user_prompt += \"\\n\".join(website.links)\n",
        "    return user_prompt"
      ],
      "metadata": {
        "id": "vHBy0YPt6jHZ"
      },
      "execution_count": 54,
      "outputs": []
    },
    {
      "cell_type": "code",
      "source": [
        "def get_filtered_links(url):\n",
        "    website = Website(url)\n",
        "    response = client.chat.completions.create(\n",
        "        model=MODEL,\n",
        "        messages=[\n",
        "            {\"role\": \"system\", \"content\": link_system_prompt},\n",
        "            {\"role\": \"user\", \"content\": get_links_user_prompt(website)}\n",
        "      ],\n",
        "        response_format={\"type\": \"json_object\"}\n",
        "    )\n",
        "    result = response.choices[0].message.content\n",
        "    return json.loads(result)"
      ],
      "metadata": {
        "id": "UZlu6fBj6lCS"
      },
      "execution_count": 55,
      "outputs": []
    },
    {
      "cell_type": "markdown",
      "source": [
        "## STEP 4: Collect all content from landing page + relevant links"
      ],
      "metadata": {
        "id": "tViGz3Nz6nUw"
      }
    },
    {
      "cell_type": "code",
      "source": [
        "def get_all_details(url):\n",
        "    result = \"Landing page:\\n\"\n",
        "    landing_page = Website(url)\n",
        "    result += landing_page.get_contents()\n",
        "\n",
        "    links = get_filtered_links(url)\n",
        "    for link in links[\"links\"]:\n",
        "        result += f\"\\n\\n{link['type']}\\n\"\n",
        "        result += Website(link[\"url\"]).get_contents()\n",
        "    return result"
      ],
      "metadata": {
        "id": "GygZe0Pg6rJY"
      },
      "execution_count": 56,
      "outputs": []
    },
    {
      "cell_type": "markdown",
      "source": [
        "## STEP 5: Brochure generation prompt"
      ],
      "metadata": {
        "id": "0hqMRIdv6ti5"
      }
    },
    {
      "cell_type": "code",
      "source": [
        "system_prompt_tone = \"You are an assistant that analyzes the contents of several relevant pages from a company website \\\n",
        "and creates a short brochure about the company for prospective customers, investors and recruits. Respond in markdown.\\\n",
        "Include details of company culture, customers and careers/jobs if you have the information.\"\n",
        "\n",
        "def get_brochure_user_prompt(company_name, url, tone):\n",
        "    prompt = f\"You are looking at a company called: {company_name}.\\n\"\n",
        "    prompt += f\"Here are the contents of its landing page and other relevant pages:\\n\"\n",
        "    prompt += f\"Use this to build a short brochure with a {tone} tone.\\n\"\n",
        "    prompt += get_all_details(url)\n",
        "    return prompt[:5000]"
      ],
      "metadata": {
        "id": "QsWtzYxQ6x36"
      },
      "execution_count": 57,
      "outputs": []
    },
    {
      "cell_type": "markdown",
      "source": [
        "## STEP 6: Generate brochure in English using GPT-4o-mini"
      ],
      "metadata": {
        "id": "fnAIg1uZ6z6Y"
      }
    },
    {
      "cell_type": "code",
      "source": [
        "def create_brochure(company_name, url, tone=\"professional\"):\n",
        "    response = client.chat.completions.create(\n",
        "        model=MODEL,\n",
        "        messages=[\n",
        "            {\"role\": \"system\", \"content\": system_prompt_tone},\n",
        "            {\"role\": \"user\", \"content\": get_brochure_user_prompt(company_name, url, tone)}\n",
        "        ],\n",
        "        temperature=0.7\n",
        "    )\n",
        "    return response.choices[0].message.content"
      ],
      "metadata": {
        "id": "qJ3_sAVb62tw"
      },
      "execution_count": 58,
      "outputs": []
    },
    {
      "cell_type": "markdown",
      "source": [
        "## STEP 7: Translate brochure (if not in English)"
      ],
      "metadata": {
        "id": "x7JHDTfs64kA"
      }
    },
    {
      "cell_type": "code",
      "source": [
        "def translate_brochure(text, target_language):\n",
        "    if target_language.lower() in [\"american english\", \"english\", \"en\"]:\n",
        "        return text\n",
        "    translation_prompt = f\"Please translate the following brochure to {target_language}. Only return the translated markdown:\\n\\n{text}\"\n",
        "    response = client.chat.completions.create(\n",
        "        model=MODEL,\n",
        "        messages=[{\"role\": \"user\", \"content\": translation_prompt}],\n",
        "        temperature=0.5\n",
        "    )\n",
        "    return response.choices[0].message.content"
      ],
      "metadata": {
        "id": "hvrz_4CX673J"
      },
      "execution_count": 59,
      "outputs": []
    },
    {
      "cell_type": "markdown",
      "source": [
        "## STEP 8: Combine logic for Gradio app"
      ],
      "metadata": {
        "id": "jtHQXP_H69c6"
      }
    },
    {
      "cell_type": "code",
      "source": [
        "def brochure_app(company_name, company_url, tone, language):\n",
        "    try:\n",
        "        english = create_brochure(company_name, company_url, tone)\n",
        "        if language.lower() in [\"american english\", \"english\", \"en\"]:\n",
        "            return english\n",
        "        return translate_brochure(english, language)\n",
        "    except Exception as e:\n",
        "        return f\"❌ Error: {str(e)}\""
      ],
      "metadata": {
        "id": "UsHqyf_C7Aix"
      },
      "execution_count": 60,
      "outputs": []
    },
    {
      "cell_type": "markdown",
      "source": [
        "## STEP 9: Launch Gradio UI"
      ],
      "metadata": {
        "id": "oENxk09I7CUg"
      }
    },
    {
      "cell_type": "code",
      "source": [
        "with gr.Blocks() as demo:\n",
        "    gr.Markdown(\"## 🌍 Multilingual Company Brochure Generator\")\n",
        "\n",
        "    with gr.Row():\n",
        "        name = gr.Textbox(label=\"Company Name\", placeholder=\"e.g., CNN\")\n",
        "        url = gr.Textbox(label=\"Company Website URL\", placeholder=\"e.g., https://edition.cnn.com\")\n",
        "\n",
        "    with gr.Row():\n",
        "        tone = gr.Dropdown(\n",
        "                  [\"professional\", \"jovial\", \"friendly\", \"inspirational\", \"luxury\", \"youthful\", \"serious\"],\n",
        "                  label=\"Brochure Tone\",\n",
        "                  value=\"professional\"\n",
        "                )\n",
        "\n",
        "        language = gr.Dropdown(\n",
        "                  [\n",
        "                      \"American English\", \"British English\", \"French\", \"Spanish\", \"German\", \"Hindi\",\n",
        "                      \"Mandarin Chinese\", \"Japanese\", \"Korean\", \"Arabic\", \"Portuguese\", \"Russian\",\n",
        "                      \"Indonesian\", \"Malay\", \"Vietnamese\", \"Italian\", \"Dutch\", \"Thai\", \"Swedish\"\n",
        "                  ],\n",
        "                  label=\"Brochure Language\",\n",
        "                  value=\"American English\"\n",
        "                )\n",
        "\n",
        "    output = gr.Markdown(label=\"Generated Brochure\")\n",
        "\n",
        "    btn = gr.Button(\"Generate Brochure\")\n",
        "    btn.click(brochure_app, inputs=[name, url, tone, language], outputs=output)\n",
        "\n",
        "demo.launch()"
      ],
      "metadata": {
        "colab": {
          "base_uri": "https://localhost:8080/",
          "height": 645
        },
        "id": "Cn0oNpDr7Eep",
        "outputId": "2ef5e0f8-5107-4359-e278-e6ae9844533c"
      },
      "execution_count": 61,
      "outputs": [
        {
          "output_type": "stream",
          "name": "stdout",
          "text": [
            "It looks like you are running Gradio on a hosted a Jupyter notebook. For the Gradio app to work, sharing must be enabled. Automatically setting `share=True` (you can turn this off by setting `share=False` in `launch()` explicitly).\n",
            "\n",
            "Colab notebook detected. To show errors in colab notebook, set debug=True in launch()\n",
            "* Running on public URL: https://1bda93c2fcc9aac468.gradio.live\n",
            "\n",
            "This share link expires in 1 week. For free permanent hosting and GPU upgrades, run `gradio deploy` from the terminal in the working directory to deploy to Hugging Face Spaces (https://huggingface.co/spaces)\n"
          ]
        },
        {
          "output_type": "display_data",
          "data": {
            "text/plain": [
              "<IPython.core.display.HTML object>"
            ],
            "text/html": [
              "<div><iframe src=\"https://1bda93c2fcc9aac468.gradio.live\" width=\"100%\" height=\"500\" allow=\"autoplay; camera; microphone; clipboard-read; clipboard-write;\" frameborder=\"0\" allowfullscreen></iframe></div>"
            ]
          },
          "metadata": {}
        },
        {
          "output_type": "execute_result",
          "data": {
            "text/plain": []
          },
          "metadata": {},
          "execution_count": 61
        }
      ]
    }
  ]
}