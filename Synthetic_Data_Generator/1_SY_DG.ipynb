{
 "cells": [
  {
   "cell_type": "markdown",
   "id": "15481277",
   "metadata": {},
   "source": [
    "### <span style=\"color:purple; font-weight:bold;\">Candidate Name: Anirban Bose</span>\n",
    "<h3><strong style=\"color:purple;\">Assignment: Synthetic Data Generator</strong></h3>"
   ]
  },
  {
   "cell_type": "code",
   "execution_count": null,
   "id": "c563ad0b",
   "metadata": {},
   "outputs": [],
   "source": [
    "import os\n",
    "from dotenv import load_dotenv\n",
    "from openai import OpenAI\n",
    "import gradio as gr"
   ]
  },
  {
   "cell_type": "code",
   "execution_count": null,
   "id": "c3a435d1",
   "metadata": {},
   "outputs": [],
   "source": []
  }
 ],
 "metadata": {
  "kernelspec": {
   "display_name": "Python 3",
   "language": "python",
   "name": "python3"
  },
  "language_info": {
   "name": "python",
   "version": "3.11.5"
  }
 },
 "nbformat": 4,
 "nbformat_minor": 5
}
